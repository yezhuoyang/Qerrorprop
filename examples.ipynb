{
 "cells": [
  {
   "cell_type": "markdown",
   "id": "50769a1b-fdd9-4d7b-9fc2-ade8492f54da",
   "metadata": {},
   "source": [
    "# Plot error threshold"
   ]
  },
  {
   "cell_type": "code",
   "execution_count": null,
   "id": "cf776ddc-7ce4-4b32-867b-7b6af74a7dcf",
   "metadata": {},
   "outputs": [],
   "source": [
    "import matplotlib.pyplot as plt\n",
    "import numpy as np\n",
    "from math import factorial\n",
    "\n",
    "# Function to calculate logical error rate P_L\n",
    "def logical_error_rate(d, P_e):\n",
    "    d_e = (d + 1) // 2\n",
    "    comb = factorial(d) / (factorial(d_e - 1) * factorial(d_e))\n",
    "    P_L = d * comb * (P_e ** d_e)\n",
    "    return P_L\n",
    "\n",
    "# Code distances to consider\n",
    "code_distances = [3,  7,  11, 15, 19, 23, 27, 30]\n",
    "\n",
    "# Physical error rates to consider\n",
    "P_e_values = np.linspace(0.0001, 0.5, 100)\n",
    "\n",
    "# Physical error rates to consider\n",
    "P_e_values = np.logspace(-8, 1, 100)  # Logarithmic scale from 0.001 to 0.1\n",
    "\n",
    "# Plotting the results\n",
    "plt.figure(figsize=(10, 6))\n",
    "\n",
    "for d in code_distances:\n",
    "    P_L_values = [logical_error_rate(d, P_e) for P_e in P_e_values]\n",
    "    plt.plot(P_e_values, P_L_values, label=f'd = {d}')\n",
    "\n",
    "plt.xscale('log')\n",
    "plt.yscale('log')  # Logical error rate is typically plotted on a logarithmic scale\n",
    "plt.xlabel(r'Physical Error Rate ($P_e$)')\n",
    "plt.ylabel(r'Logical Error Rate ($P_L$)')\n",
    "plt.title('Logical Error Rate vs. Physical Error Rate for Different Code Distances (Log-Log Scale)')\n",
    "plt.legend()\n",
    "plt.grid(True)\n",
    "plt.savefig(\"SurfaceEstimate.png\")\n",
    "plt.show()\n"
   ]
  },
  {
   "cell_type": "markdown",
   "id": "e3106489-2b3c-4509-9478-d516b8d09b07",
   "metadata": {},
   "source": [
    "# Plot binomial distribution"
   ]
  },
  {
   "cell_type": "code",
   "execution_count": null,
   "id": "c9929764-4595-4a63-b637-227ec53d00e0",
   "metadata": {},
   "outputs": [],
   "source": [
    "import numpy as np\n",
    "import matplotlib.pyplot as plt\n",
    "from scipy.stats import binom\n",
    "\n",
    "# Parameters\n",
    "n = 5000\n",
    "p = 0.01\n",
    "\n",
    "# Binomial distribution\n",
    "k = np.arange(0, n+1)\n",
    "probabilities = binom.pmf(k, n, p)\n",
    "\n",
    "plt.figure(figsize=(10, 6))\n",
    "plt.stem(k, probabilities)\n",
    "plt.xlim(0,2*n*p)\n",
    "plt.xlabel('Number of Errors')\n",
    "plt.ylabel('Probability')\n",
    "plt.title('Binomial Distribution of the number of error (n=50, p=0.01)')\n",
    "plt.grid(True)\n",
    "plt.savefig(\"Binomial\")\n",
    "plt.show()"
   ]
  },
  {
   "cell_type": "markdown",
   "id": "4e5e994a-56ec-4034-b822-4d5c55817100",
   "metadata": {},
   "source": [
    "# Histogram of 2 qubit"
   ]
  },
  {
   "cell_type": "code",
   "execution_count": null,
   "id": "c80aa694-10ad-47cc-9a5c-abdd5a594333",
   "metadata": {},
   "outputs": [],
   "source": [
    "import numpy as np\n",
    "import matplotlib.pyplot as plt\n",
    "\n",
    "# Define the fixed probability value\n",
    "p = 0.85\n",
    "\n",
    "# Calculate probabilities for the first set of equations\n",
    "P1_0 = (1-p)**4 + p**2 * (1-p)**2 + 2 * p**3 * (1-p)\n",
    "P1_1 = 3*p * (1-p)**3 + 3*p**2 * (1-p)**2 + p**3 * (1-p) + p**4\n",
    "P1_2 = p * (1-p)**3 + 2 * p**2 * (1-p)**2 + p**3 * (1-p)\n",
    "\n",
    "# Calculate probabilities for the second set of equations\n",
    "P2_0 = (2*p**2 - 2*p + 1)**2\n",
    "P2_1 = 2 * (2*p - 2*p**2) * (2*p**2 - 2*p + 1)\n",
    "P2_2 = (2*p - 2*p**2)**2\n",
    "\n",
    "# Data for histograms\n",
    "values = np.array([0, 1, 2])\n",
    "P1_values = [P1_0, P1_1, P1_2]\n",
    "P2_values = [P2_0, P2_1, P2_2]\n",
    "\n",
    "# Bar width\n",
    "bar_width = 0.25\n",
    "\n",
    "# Plot the histograms\n",
    "plt.figure(figsize=(10, 6))\n",
    "\n",
    "# Histogram for the first set of probabilities\n",
    "plt.bar(values - bar_width/2, P1_values, bar_width, label='After CNOT propagation', color='blue', edgecolor='black')\n",
    "\n",
    "# Histogram for the second set of probabilities\n",
    "plt.bar(values + bar_width/2, P2_values, bar_width, label='Before CNOT propagation', color='red', edgecolor='black')\n",
    "\n",
    "plt.xlabel('Number of Bitflip errors at T=2',fontsize=16)\n",
    "plt.ylabel('Probability',fontsize=16)\n",
    "plt.title('Histogram of Two Probability Distributions for p=0.85',fontsize=16)\n",
    "plt.xticks(values)\n",
    "plt.legend(loc='upper right')\n",
    "plt.grid(True)\n",
    "plt.savefig(\"2QubitDistribution.png\")\n",
    "plt.show()\n"
   ]
  }
 ],
 "metadata": {
  "kernelspec": {
   "display_name": "Python 3 (ipykernel)",
   "language": "python",
   "name": "python3"
  },
  "language_info": {
   "codemirror_mode": {
    "name": "ipython",
    "version": 3
   },
   "file_extension": ".py",
   "mimetype": "text/x-python",
   "name": "python",
   "nbconvert_exporter": "python",
   "pygments_lexer": "ipython3",
   "version": "3.11.7"
  }
 },
 "nbformat": 4,
 "nbformat_minor": 5
}
